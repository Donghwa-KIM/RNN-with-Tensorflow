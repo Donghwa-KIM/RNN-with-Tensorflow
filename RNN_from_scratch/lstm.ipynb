{
 "cells": [
  {
   "cell_type": "code",
   "execution_count": 1,
   "metadata": {
    "collapsed": true
   },
   "outputs": [],
   "source": [
    "%matplotlib inline\n",
    "import numpy as np\n",
    "import matplotlib.pyplot as plt\n",
    "import pandas as pd\n",
    "import math\n",
    "import tensorflow as tf\n",
    "from sklearn.preprocessing import MinMaxScaler\n",
    "from sklearn.model_selection import train_test_split\n",
    "\n"
   ]
  },
  {
   "cell_type": "code",
   "execution_count": 2,
   "metadata": {
    "scrolled": true
   },
   "outputs": [
    {
     "name": "stdout",
     "output_type": "stream",
     "text": [
      "       Date    Open    High     Low   Close      Volume\n",
      "0  1/3/2012  325.25  332.83  324.97  663.59   7,380,500\n",
      "1  1/4/2012  331.27  333.87  329.08  666.45   5,749,400\n",
      "2  1/5/2012  329.83  330.75  326.89  657.21   6,590,300\n",
      "3  1/6/2012  328.34  328.77  323.68  648.24   5,405,900\n",
      "4  1/9/2012  322.04  322.29  309.46  620.76  11,688,800\n"
     ]
    }
   ],
   "source": [
    "data_set = pd.read_csv(\"../data/Google_Stock_Price_Train.csv\")\n",
    "print(data_set.head())"
   ]
  },
  {
   "cell_type": "markdown",
   "metadata": {},
   "source": [
    "- Data preprocesing"
   ]
  },
  {
   "cell_type": "markdown",
   "metadata": {},
   "source": [
    "------"
   ]
  },
  {
   "cell_type": "code",
   "execution_count": 3,
   "metadata": {},
   "outputs": [
    {
     "data": {
      "text/plain": [
       "(1258, 6)"
      ]
     },
     "execution_count": 3,
     "metadata": {},
     "output_type": "execute_result"
    }
   ],
   "source": [
    "data_set.shape"
   ]
  },
  {
   "cell_type": "code",
   "execution_count": 4,
   "metadata": {
    "scrolled": true
   },
   "outputs": [
    {
     "data": {
      "text/plain": [
       "array([[325.25, 332.83, 324.97],\n",
       "       [331.27, 333.87, 329.08],\n",
       "       [329.83, 330.75, 326.89],\n",
       "       ...,\n",
       "       [793.7 , 794.23, 783.2 ],\n",
       "       [783.33, 785.93, 778.92],\n",
       "       [782.75, 782.78, 770.41]])"
      ]
     },
     "execution_count": 4,
     "metadata": {},
     "output_type": "execute_result"
    }
   ],
   "source": [
    "data_set = data_set.iloc[:,1:4].values\n",
    "data_set"
   ]
  },
  {
   "cell_type": "code",
   "execution_count": 5,
   "metadata": {
    "scrolled": false
   },
   "outputs": [
    {
     "data": {
      "text/plain": [
       "array([[325.25,   7.86],\n",
       "       [331.27,   4.79],\n",
       "       [329.83,   3.86],\n",
       "       ...,\n",
       "       [793.7 ,  11.03],\n",
       "       [783.33,   7.01],\n",
       "       [782.75,  12.37]])"
      ]
     },
     "execution_count": 5,
     "metadata": {},
     "output_type": "execute_result"
    }
   ],
   "source": [
    "data_set = np.array([[i,j-k]for i,j,k in data_set])\n",
    "data_set"
   ]
  },
  {
   "cell_type": "markdown",
   "metadata": {},
   "source": [
    "- Target interval = 1"
   ]
  },
  {
   "cell_type": "code",
   "execution_count": 6,
   "metadata": {
    "collapsed": true,
    "scrolled": false
   },
   "outputs": [],
   "source": [
    "X_data = data_set[0:1257]\n",
    "y_data = data_set[1:1258,0:1]"
   ]
  },
  {
   "cell_type": "code",
   "execution_count": 7,
   "metadata": {
    "collapsed": true
   },
   "outputs": [],
   "source": [
    "X_sc = MinMaxScaler() # default is 0,1\n",
    "X_data = X_sc.fit_transform(X_data)"
   ]
  },
  {
   "cell_type": "code",
   "execution_count": 8,
   "metadata": {
    "collapsed": true
   },
   "outputs": [],
   "source": [
    "y_sc = MinMaxScaler() # default is 0,1\n",
    "y_data = y_sc.fit_transform(y_data)"
   ]
  },
  {
   "cell_type": "markdown",
   "metadata": {},
   "source": [
    "- x_dim =2"
   ]
  },
  {
   "cell_type": "code",
   "execution_count": 9,
   "metadata": {},
   "outputs": [
    {
     "data": {
      "text/plain": [
       "array([[0.08581368, 0.11558367],\n",
       "       [0.09701243, 0.05673759],\n",
       "       [0.09433366, 0.03891125],\n",
       "       ...,\n",
       "       [0.95163331, 0.16043703],\n",
       "       [0.95725128, 0.17634656],\n",
       "       [0.93796041, 0.09929078]])"
      ]
     },
     "execution_count": 9,
     "metadata": {},
     "output_type": "execute_result"
    }
   ],
   "source": [
    "X_data"
   ]
  },
  {
   "cell_type": "code",
   "execution_count": 10,
   "metadata": {
    "scrolled": false
   },
   "outputs": [
    {
     "data": {
      "text/plain": [
       "array([[0.09701243],\n",
       "       [0.09433366],\n",
       "       [0.09156187],\n",
       "       ...,\n",
       "       [0.95725128],\n",
       "       [0.93796041],\n",
       "       [0.93688146]])"
      ]
     },
     "execution_count": 10,
     "metadata": {},
     "output_type": "execute_result"
    }
   ],
   "source": [
    "y_data"
   ]
  },
  {
   "cell_type": "code",
   "execution_count": 11,
   "metadata": {
    "collapsed": true
   },
   "outputs": [],
   "source": [
    "# hyperparameters\n",
    "seq_length =7\n",
    "batch_size =35\n",
    "state_size = 4 # hidden node size \n",
    "input_dim = X_data.shape[1] # 2\n",
    "output_dim = y_data.shape[1] # 1"
   ]
  },
  {
   "cell_type": "code",
   "execution_count": 12,
   "metadata": {},
   "outputs": [
    {
     "name": "stdout",
     "output_type": "stream",
     "text": [
      "# of paired dataset 1250\n"
     ]
    }
   ],
   "source": [
    "print('# of paired dataset', len(y_data)-seq_length)"
   ]
  },
  {
   "cell_type": "code",
   "execution_count": 13,
   "metadata": {
    "scrolled": true
   },
   "outputs": [
    {
     "name": "stdout",
     "output_type": "stream",
     "text": [
      "[[0.08581368 0.11558367]\n",
      " [0.09701243 0.05673759]\n",
      " [0.09433366 0.03891125]\n",
      " [0.09156187 0.06248802]\n",
      " [0.07984225 0.21084915]\n",
      " [0.0643277  0.12631781]\n",
      " [0.0585423  0.04389496]] -> [0.06109085]\n",
      "[[0.88241313 0.16062871]\n",
      " [0.87512092 0.0555875 ]\n",
      " [0.88138998 0.22311673]\n",
      " [0.90700573 0.22465018]\n",
      " [0.92544088 0.17002108]\n",
      " [0.91223305 0.17883841]\n",
      " [0.86293623 0.2102741 ]] -> [0.83875288]\n"
     ]
    }
   ],
   "source": [
    "data_X = []\n",
    "data_y = []\n",
    "for i in range(0, len(y_data) - seq_length):\n",
    "    _X_data = X_data[i:i+seq_length]\n",
    "    _y_data = y_data[i+seq_length]\n",
    "    data_X.append(_X_data)\n",
    "    data_y.append(_y_data)\n",
    "    if i%1000 ==0:\n",
    "        print(_X_data, \"->\", _y_data)"
   ]
  },
  {
   "cell_type": "code",
   "execution_count": 14,
   "metadata": {
    "scrolled": false
   },
   "outputs": [
    {
     "name": "stdout",
     "output_type": "stream",
     "text": [
      "X_train: 875\n",
      "y_train: 875\n",
      "X_test: 375\n",
      "y_test: 375\n"
     ]
    }
   ],
   "source": [
    "X_trn, X_tst, y_trn, y_tst = train_test_split(data_X, data_y, \n",
    "                                              test_size=0.3, \n",
    "                                              random_state=42,\n",
    "                                              shuffle=False\n",
    "                                              )\n",
    "print('X_train:', len(X_trn))\n",
    "print('y_train:', len(y_trn))\n",
    "print('X_test:', len(X_tst))\n",
    "print('y_test:', len(y_tst))"
   ]
  },
  {
   "cell_type": "markdown",
   "metadata": {},
   "source": [
    "- graph로 통과시킬 변수 선언"
   ]
  },
  {
   "cell_type": "code",
   "execution_count": 15,
   "metadata": {},
   "outputs": [],
   "source": [
    "tf.reset_default_graph()"
   ]
  },
  {
   "cell_type": "code",
   "execution_count": 16,
   "metadata": {
    "collapsed": true
   },
   "outputs": [],
   "source": [
    "X = tf.placeholder(tf.float32, [None, seq_length, input_dim])\n",
    "y = tf.placeholder(tf.float32, [None, 1])\n",
    "lr = tf.placeholder(tf.float32)"
   ]
  },
  {
   "cell_type": "code",
   "execution_count": 17,
   "metadata": {},
   "outputs": [
    {
     "name": "stdout",
     "output_type": "stream",
     "text": [
      "Tensor(\"Placeholder:0\", shape=(?, 7, 2), dtype=float32)\n",
      "Tensor(\"Placeholder_1:0\", shape=(?, 1), dtype=float32)\n"
     ]
    }
   ],
   "source": [
    "print(X)\n",
    "print(y)"
   ]
  },
  {
   "cell_type": "code",
   "execution_count": 18,
   "metadata": {},
   "outputs": [
    {
     "data": {
      "text/plain": [
       "<tf.Tensor 'Placeholder_3:0' shape=(2, ?, 4) dtype=float32>"
      ]
     },
     "execution_count": 18,
     "metadata": {},
     "output_type": "execute_result"
    }
   ],
   "source": [
    "# 0: cell, 1: hidden\n",
    "init_state = tf.placeholder( tf.float32, [2, None, state_size])\n",
    "init_state"
   ]
  },
  {
   "cell_type": "markdown",
   "metadata": {},
   "source": [
    "- 학습되는 파라미터 선언"
   ]
  },
  {
   "cell_type": "code",
   "execution_count": 19,
   "metadata": {},
   "outputs": [],
   "source": [
    "# hidden state\n",
    "# concat trainables weights = state_dim + input dim \n",
    "W = tf.get_variable('W_x', shape = (4,input_dim, state_size), \n",
    "                    initializer=tf.contrib.layers.xavier_initializer())\n",
    "U = tf.get_variable('U_h', shape = (4,state_size, state_size), \n",
    "                    initializer=tf.contrib.layers.xavier_initializer())\n",
    "b = tf.get_variable('b', shape=[4,state_size], initializer=tf.zeros_initializer())"
   ]
  },
  {
   "cell_type": "code",
   "execution_count": 20,
   "metadata": {},
   "outputs": [
    {
     "data": {
      "text/plain": [
       "<tf.Tensor 'transpose:0' shape=(7, ?, 2) dtype=float32>"
      ]
     },
     "execution_count": 20,
     "metadata": {},
     "output_type": "execute_result"
    }
   ],
   "source": [
    "seq_inputs = tf.transpose(X, [1,0,2])\n",
    "seq_inputs"
   ]
  },
  {
   "cell_type": "code",
   "execution_count": 21,
   "metadata": {},
   "outputs": [
    {
     "name": "stdout",
     "output_type": "stream",
     "text": [
      "Tensor(\"unstack:0\", shape=(?, 4), dtype=float32)\n",
      "Tensor(\"unstack:1\", shape=(?, 4), dtype=float32)\n"
     ]
    }
   ],
   "source": [
    "h_state, c_state = tf.unstack(init_state)\n",
    "print(h_state)\n",
    "print(c_state)"
   ]
  },
  {
   "cell_type": "markdown",
   "metadata": {},
   "source": [
    "$$i = \\sigma(\\mathbf{W}_i \\cdot \\mathbf{x}_t + \\mathbf{U}_i \\cdot \\mathbf{h}_{t-1}) + \\mathbf{b}_i$$\n",
    "\n",
    "$$f = \\sigma(\\mathbf{W}_f \\cdot \\mathbf{x}_t + \\mathbf{U}_f \\cdot \\mathbf{h}_{t-1}) + \\mathbf{b}_f$$\n",
    "\n",
    "$$o = \\sigma(\\mathbf{W}_o \\cdot \\mathbf{x}_t + \\mathbf{U}_o \\cdot \\mathbf{h}_{t-1}) + \\mathbf{b}_o$$\n",
    "\n",
    "$$g = \\tanh(\\mathbf{W}_g \\cdot \\mathbf{x}_t + \\mathbf{U}_g \\cdot \\mathbf{h}_{t-1}) + \\mathbf{b}_g$$\n",
    "\n",
    "\n",
    "$$c_t = f \\cdot c_{t-1} + i \\cdot g$$\n",
    "\n",
    "$$\\mathbf{h}_t = \\tanh(c_t) \\cdot o$$"
   ]
  },
  {
   "cell_type": "markdown",
   "metadata": {},
   "source": [
    "```python\n",
    "cell_outputs = []\n",
    "hidden_outputs = []\n",
    "\n",
    "h_state, c_state = tf.unstack(init_state)\n",
    "for ix in range(seq_inputs.get_shape()[0]):\n",
    "    # input gate\n",
    "    i = tf.sigmoid(tf.matmul(seq_inputs[ix], W[0]) + tf.matmul(h_state, U[0]) + b[0] )\n",
    "    # forget gate\n",
    "    f = tf.sigmoid(tf.matmul(seq_inputs[ix], W[1]) + tf.matmul(h_state, U[1]) + b[1] )\n",
    "    # output gate\n",
    "    o = tf.sigmoid(tf.matmul(seq_inputs[ix], W[2]) + tf.matmul(h_state, U[2]) + b[2] )\n",
    "    # gate weights\n",
    "    g = tf.tanh(tf.matmul(seq_inputs[ix], W[3]) + tf.matmul(h_state, U[3]) + b[3] )\n",
    "\n",
    "    c_state = c_state*f + g*i\n",
    "    h_state = tf.tanh(c_state) * o\n",
    "    \n",
    "    hidden_outputs.append(h_state)\n",
    "    cell_outputs.append(c_state)\n",
    "```"
   ]
  },
  {
   "cell_type": "markdown",
   "metadata": {},
   "source": [
    "---"
   ]
  },
  {
   "cell_type": "code",
   "execution_count": 22,
   "metadata": {},
   "outputs": [],
   "source": [
    "def RNN_cell(pre_output, x):\n",
    "    \n",
    "    h_state, c_state = tf.unstack(pre_output)\n",
    "\n",
    "    # input gate\n",
    "    i = tf.sigmoid(tf.matmul(x, W[0]) + tf.matmul(h_state, U[0]) + b[0] )\n",
    "    # forget gate\n",
    "    f = tf.sigmoid(tf.matmul(x, W[1]) + tf.matmul(h_state, U[1]) + b[1] )\n",
    "    # output gate\n",
    "    o = tf.sigmoid(tf.matmul(x, W[2]) + tf.matmul(h_state, U[2]) + b[2] )\n",
    "    # gate weights\n",
    "    g = tf.tanh(tf.matmul(x, W[3]) + tf.matmul(h_state, U[3]) + b[3] )\n",
    "    \n",
    "    next_c_state = c_state*f + g*i\n",
    "    next_h_state = tf.tanh(next_c_state) * o\n",
    "    \n",
    "    return tf.stack([next_h_state, next_c_state])"
   ]
  },
  {
   "cell_type": "code",
   "execution_count": 23,
   "metadata": {},
   "outputs": [],
   "source": [
    "states = tf.scan(RNN_cell, \n",
    "                 seq_inputs,\n",
    "                 initializer=init_state)"
   ]
  },
  {
   "cell_type": "code",
   "execution_count": 24,
   "metadata": {},
   "outputs": [
    {
     "data": {
      "text/plain": [
       "[<tf.Tensor 'unstack_1:0' shape=(?, 4) dtype=float32>,\n",
       " <tf.Tensor 'unstack_1:1' shape=(?, 4) dtype=float32>,\n",
       " <tf.Tensor 'unstack_1:2' shape=(?, 4) dtype=float32>,\n",
       " <tf.Tensor 'unstack_1:3' shape=(?, 4) dtype=float32>,\n",
       " <tf.Tensor 'unstack_1:4' shape=(?, 4) dtype=float32>,\n",
       " <tf.Tensor 'unstack_1:5' shape=(?, 4) dtype=float32>,\n",
       " <tf.Tensor 'unstack_1:6' shape=(?, 4) dtype=float32>]"
      ]
     },
     "execution_count": 24,
     "metadata": {},
     "output_type": "execute_result"
    }
   ],
   "source": [
    "# hidden output\n",
    "tf.unstack(states[:,0,:,:])"
   ]
  },
  {
   "cell_type": "code",
   "execution_count": 25,
   "metadata": {},
   "outputs": [
    {
     "data": {
      "text/plain": [
       "[<tf.Tensor 'unstack_2:0' shape=(?, 4) dtype=float32>,\n",
       " <tf.Tensor 'unstack_2:1' shape=(?, 4) dtype=float32>,\n",
       " <tf.Tensor 'unstack_2:2' shape=(?, 4) dtype=float32>,\n",
       " <tf.Tensor 'unstack_2:3' shape=(?, 4) dtype=float32>,\n",
       " <tf.Tensor 'unstack_2:4' shape=(?, 4) dtype=float32>,\n",
       " <tf.Tensor 'unstack_2:5' shape=(?, 4) dtype=float32>,\n",
       " <tf.Tensor 'unstack_2:6' shape=(?, 4) dtype=float32>]"
      ]
     },
     "execution_count": 25,
     "metadata": {},
     "output_type": "execute_result"
    }
   ],
   "source": [
    "# cell output\n",
    "tf.unstack(states[:,1,:,:])"
   ]
  },
  {
   "cell_type": "markdown",
   "metadata": {},
   "source": [
    "---"
   ]
  },
  {
   "cell_type": "code",
   "execution_count": 26,
   "metadata": {},
   "outputs": [
    {
     "data": {
      "text/plain": [
       "<tf.Tensor 'strided_slice_2:0' shape=(2, ?, 4) dtype=float32>"
      ]
     },
     "execution_count": 26,
     "metadata": {},
     "output_type": "execute_result"
    }
   ],
   "source": [
    "last_state = states[-1]\n",
    "last_state"
   ]
  },
  {
   "cell_type": "code",
   "execution_count": 27,
   "metadata": {},
   "outputs": [
    {
     "data": {
      "text/plain": [
       "<tf.Tensor 'strided_slice_3:0' shape=(?, 4) dtype=float32>"
      ]
     },
     "execution_count": 27,
     "metadata": {},
     "output_type": "execute_result"
    }
   ],
   "source": [
    "# 0: hidden 1: cell\n",
    "last_h_state = last_state[0]\n",
    "last_h_state"
   ]
  },
  {
   "cell_type": "code",
   "execution_count": 28,
   "metadata": {
    "collapsed": true
   },
   "outputs": [],
   "source": [
    "\n",
    "# output\n",
    "V_target = tf.get_variable('V_target', shape=[state_size, output_dim],\n",
    "                           initializer=tf.contrib.layers.xavier_initializer())\n",
    "\n",
    "b_target = tf.get_variable('b_target', shape = [1,output_dim],\n",
    "                           initializer=tf.zeros_initializer())"
   ]
  },
  {
   "cell_type": "code",
   "execution_count": 29,
   "metadata": {},
   "outputs": [
    {
     "name": "stdout",
     "output_type": "stream",
     "text": [
      "<tf.Variable 'V_target:0' shape=(4, 1) dtype=float32_ref>\n",
      "<tf.Variable 'b_target:0' shape=(1, 1) dtype=float32_ref>\n"
     ]
    }
   ],
   "source": [
    "print(V_target)\n",
    "print(b_target)"
   ]
  },
  {
   "cell_type": "markdown",
   "metadata": {},
   "source": [
    "<br>"
   ]
  },
  {
   "cell_type": "markdown",
   "metadata": {},
   "source": [
    "- loss function"
   ]
  },
  {
   "cell_type": "code",
   "execution_count": 30,
   "metadata": {},
   "outputs": [
    {
     "data": {
      "text/plain": [
       "<tf.Tensor 'dense/BiasAdd:0' shape=(?, 1) dtype=float32>"
      ]
     },
     "execution_count": 30,
     "metadata": {},
     "output_type": "execute_result"
    }
   ],
   "source": [
    "# with last hidden state\n",
    "y_pred = tf.layers.dense(last_h_state, output_dim, activation=None)\n",
    "y_pred"
   ]
  },
  {
   "cell_type": "code",
   "execution_count": 31,
   "metadata": {
    "collapsed": true
   },
   "outputs": [],
   "source": [
    "loss = tf.losses.mean_squared_error(labels=y, predictions=y_pred)\n",
    "train_op = tf.train.AdamOptimizer(lr).minimize(loss)"
   ]
  },
  {
   "cell_type": "code",
   "execution_count": 32,
   "metadata": {
    "collapsed": true
   },
   "outputs": [],
   "source": [
    "sess = tf.Session()\n",
    "init = tf.global_variables_initializer()"
   ]
  },
  {
   "cell_type": "code",
   "execution_count": 38,
   "metadata": {
    "collapsed": true
   },
   "outputs": [],
   "source": [
    "sess.run(init)"
   ]
  },
  {
   "cell_type": "code",
   "execution_count": null,
   "metadata": {
    "scrolled": false
   },
   "outputs": [
    {
     "name": "stdout",
     "output_type": "stream",
     "text": [
      "0th loss: 0.005337675102055073\n",
      "1000th loss: 0.00026987315504811704\n",
      "2000th loss: 0.0010962913511320949\n",
      "3000th loss: 0.00014139153063297272\n",
      "4000th loss: 0.00013653954374603927\n"
     ]
    }
   ],
   "source": [
    "ix=1\n",
    "plt.figure(figsize=(20,40))\n",
    "for epoch in range(7000):\n",
    "\n",
    "    for k in range(math.ceil(len(X_trn)/batch_size)):\n",
    "        start = k*batch_size\n",
    "        end = (k*batch_size)+batch_size\n",
    "        _ , _loss, _current_state = sess.run([train_op, loss, last_state], \n",
    "                 feed_dict={lr:0.01,\n",
    "                            X: X_trn[start:end],\n",
    "                            y: y_trn[start:end],\n",
    "                            init_state: np.zeros([2, batch_size, state_size])\n",
    "                           })\n",
    "\n",
    "    if epoch % 1000==0:\n",
    "        print('{}th loss: {}'.format(epoch,_loss))\n",
    "        \n",
    "        plt.subplot(10,1,ix)\n",
    "        \n",
    "        total_y_pred = []\n",
    "        for k in range(math.ceil((len(X_tst)/batch_size))):\n",
    "            start = k*batch_size\n",
    "            end = (k*batch_size)+batch_size\n",
    "       \n",
    "            _y_pred = sess.run(y_pred, feed_dict={ X: X_tst[start:end],\n",
    "                                                 init_state:_current_state[:,0:len(X_tst[start:end]),:]})\n",
    "            total_y_pred.extend(_y_pred)\n",
    "        \n",
    "        total_y_pred = np.array(total_y_pred)\n",
    "        \n",
    "        tst_loss = np.mean(np.abs(total_y_pred-y_tst))\n",
    "        plt.plot(total_y_pred, label ='pred')\n",
    "        plt.plot(y_tst, label = ' true')\n",
    "        plt.legend()\n",
    "        plt.title('epoch: {}'.format(i))\n",
    "        \n",
    "        ix+=1"
   ]
  },
  {
   "cell_type": "markdown",
   "metadata": {},
   "source": [
    "- y 복원예측하는 방법"
   ]
  },
  {
   "cell_type": "code",
   "execution_count": 35,
   "metadata": {
    "scrolled": true
   },
   "outputs": [
    {
     "data": {
      "text/plain": [
       "array([[875.2185 ],\n",
       "       [832.4347 ],\n",
       "       [850.2813 ],\n",
       "       [757.48834],\n",
       "       [847.5828 ]], dtype=float32)"
      ]
     },
     "execution_count": 35,
     "metadata": {},
     "output_type": "execute_result"
    }
   ],
   "source": [
    "y_sc.inverse_transform(_y_pred)[0:5]"
   ]
  },
  {
   "cell_type": "code",
   "execution_count": 36,
   "metadata": {},
   "outputs": [
    {
     "data": {
      "text/plain": [
       "0.0755799112434256"
      ]
     },
     "execution_count": 36,
     "metadata": {},
     "output_type": "execute_result"
    }
   ],
   "source": [
    "tst_loss"
   ]
  },
  {
   "cell_type": "code",
   "execution_count": 37,
   "metadata": {},
   "outputs": [
    {
     "data": {
      "text/plain": [
       "array([[319.74873709]])"
      ]
     },
     "execution_count": 37,
     "metadata": {},
     "output_type": "execute_result"
    }
   ],
   "source": [
    "y_sc.inverse_transform(tst_loss)"
   ]
  },
  {
   "cell_type": "markdown",
   "metadata": {},
   "source": [
    "---------"
   ]
  }
 ],
 "metadata": {
  "kernelspec": {
   "display_name": "tensorflow",
   "language": "python",
   "name": "tensorflow"
  },
  "language_info": {
   "codemirror_mode": {
    "name": "ipython",
    "version": 3
   },
   "file_extension": ".py",
   "mimetype": "text/x-python",
   "name": "python",
   "nbconvert_exporter": "python",
   "pygments_lexer": "ipython3",
   "version": "3.6.5"
  },
  "toc": {
   "nav_menu": {},
   "number_sections": true,
   "sideBar": true,
   "skip_h1_title": false,
   "toc_cell": false,
   "toc_position": {},
   "toc_section_display": "block",
   "toc_window_display": false
  },
  "varInspector": {
   "cols": {
    "lenName": 16,
    "lenType": 16,
    "lenVar": 40
   },
   "kernels_config": {
    "python": {
     "delete_cmd_postfix": "",
     "delete_cmd_prefix": "del ",
     "library": "var_list.py",
     "varRefreshCmd": "print(var_dic_list())"
    },
    "r": {
     "delete_cmd_postfix": ") ",
     "delete_cmd_prefix": "rm(",
     "library": "var_list.r",
     "varRefreshCmd": "cat(var_dic_list()) "
    }
   },
   "types_to_exclude": [
    "module",
    "function",
    "builtin_function_or_method",
    "instance",
    "_Feature"
   ],
   "window_display": false
  }
 },
 "nbformat": 4,
 "nbformat_minor": 2
}
